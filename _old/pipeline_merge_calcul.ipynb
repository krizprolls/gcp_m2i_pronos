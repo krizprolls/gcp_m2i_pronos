{
 "cells": [
  {
   "cell_type": "code",
   "execution_count": 1,
   "id": "0363f956-e393-461e-a772-84eae963b39a",
   "metadata": {},
   "outputs": [],
   "source": [
    "import numpy as np\n",
    "import math\n",
    "import pandas as pd\n",
    "import csv\n",
    "from tensorflow.python.lib.io import file_io\n",
    "# from function import nom_normalizer"
   ]
  },
  {
   "cell_type": "markdown",
   "id": "0fbe6a5a-4a97-4c27-b37f-5aac81d58d57",
   "metadata": {},
   "source": [
    "## Merging des csv issus du scrap calendrier -> construction d'un csv qui comprend la journée, home, away et l'url"
   ]
  },
  {
   "cell_type": "code",
   "execution_count": 2,
   "id": "4d3877d3-b00c-4543-8842-75bd13c5e30d",
   "metadata": {},
   "outputs": [],
   "source": [
    "merged =file_io.FileIO(\"gs://bucket-git-m2i/DB/calendrier/merging.csv\",mode=\"w\")    \n",
    "merged.write('Journée,Equipe_Home,Equipe_Away,URL\\n')  \n",
    "for num in range(1,39):\n",
    "    f = file_io.FileIO(\"gs://bucket-git-m2i/DB/calendrier/journee_\"+str(num)+\".csv\",mode=\"r\")\n",
    "    next(f) # skip the header\n",
    "    for line in f:\n",
    "        merged.write(f'{num},'+str(line))\n",
    "    f.close() # not really needed\n",
    "merged.close()"
   ]
  },
  {
   "cell_type": "markdown",
   "id": "9f5108c4-3007-427b-8ed4-a13f9d09dca9",
   "metadata": {},
   "source": [
    "## Merging des csv contenant les résultats historiques des 5 dernières saisons -> csv comprenant home, away, score_home, score_away"
   ]
  },
  {
   "cell_type": "code",
   "execution_count": 3,
   "id": "4525fb36-a5d5-4475-b2e2-9f85f4e2c5a2",
   "metadata": {},
   "outputs": [
    {
     "ename": "StopIteration",
     "evalue": "",
     "output_type": "error",
     "traceback": [
      "\u001b[0;31m---------------------------------------------------------------------------\u001b[0m",
      "\u001b[0;31mStopIteration\u001b[0m                             Traceback (most recent call last)",
      "\u001b[0;32m/tmp/ipykernel_495/212369387.py\u001b[0m in \u001b[0;36m<module>\u001b[0;34m\u001b[0m\n\u001b[1;32m      3\u001b[0m \u001b[0;32mfor\u001b[0m \u001b[0mnum\u001b[0m \u001b[0;32min\u001b[0m \u001b[0mrange\u001b[0m\u001b[0;34m(\u001b[0m\u001b[0;36m1\u001b[0m\u001b[0;34m,\u001b[0m\u001b[0;36m3\u001b[0m\u001b[0;34m)\u001b[0m\u001b[0;34m:\u001b[0m\u001b[0;34m\u001b[0m\u001b[0;34m\u001b[0m\u001b[0m\n\u001b[1;32m      4\u001b[0m     \u001b[0mff\u001b[0m \u001b[0;34m=\u001b[0m \u001b[0mfile_io\u001b[0m\u001b[0;34m.\u001b[0m\u001b[0mFileIO\u001b[0m\u001b[0;34m(\u001b[0m\u001b[0;34m\"gs://bucket-git-m2i/DB/historique/F\"\u001b[0m\u001b[0;34m+\u001b[0m\u001b[0mstr\u001b[0m\u001b[0;34m(\u001b[0m\u001b[0mnum\u001b[0m\u001b[0;34m)\u001b[0m\u001b[0;34m+\u001b[0m\u001b[0;34m\".csv\"\u001b[0m\u001b[0;34m,\u001b[0m\u001b[0mmode\u001b[0m\u001b[0;34m=\u001b[0m\u001b[0;34m\"r\"\u001b[0m\u001b[0;34m)\u001b[0m\u001b[0;34m\u001b[0m\u001b[0;34m\u001b[0m\u001b[0m\n\u001b[0;32m----> 5\u001b[0;31m     \u001b[0mnext\u001b[0m\u001b[0;34m(\u001b[0m\u001b[0mff\u001b[0m\u001b[0;34m)\u001b[0m \u001b[0;31m# skip the header\u001b[0m\u001b[0;34m\u001b[0m\u001b[0;34m\u001b[0m\u001b[0m\n\u001b[0m\u001b[1;32m      6\u001b[0m     \u001b[0;32mfor\u001b[0m \u001b[0mline\u001b[0m \u001b[0;32min\u001b[0m \u001b[0mff\u001b[0m\u001b[0;34m:\u001b[0m\u001b[0;34m\u001b[0m\u001b[0;34m\u001b[0m\u001b[0m\n\u001b[1;32m      7\u001b[0m         \u001b[0mmerged_F\u001b[0m\u001b[0;34m.\u001b[0m\u001b[0mwrite\u001b[0m\u001b[0;34m(\u001b[0m\u001b[0mline\u001b[0m\u001b[0;34m)\u001b[0m\u001b[0;34m\u001b[0m\u001b[0;34m\u001b[0m\u001b[0m\n",
      "\u001b[0;32m/opt/conda/lib/python3.7/site-packages/tensorflow/python/lib/io/file_io.py\u001b[0m in \u001b[0;36m__next__\u001b[0;34m(self)\u001b[0m\n\u001b[1;32m    203\u001b[0m     \u001b[0mretval\u001b[0m \u001b[0;34m=\u001b[0m \u001b[0mself\u001b[0m\u001b[0;34m.\u001b[0m\u001b[0mreadline\u001b[0m\u001b[0;34m(\u001b[0m\u001b[0;34m)\u001b[0m\u001b[0;34m\u001b[0m\u001b[0;34m\u001b[0m\u001b[0m\n\u001b[1;32m    204\u001b[0m     \u001b[0;32mif\u001b[0m \u001b[0;32mnot\u001b[0m \u001b[0mretval\u001b[0m\u001b[0;34m:\u001b[0m\u001b[0;34m\u001b[0m\u001b[0;34m\u001b[0m\u001b[0m\n\u001b[0;32m--> 205\u001b[0;31m       \u001b[0;32mraise\u001b[0m \u001b[0mStopIteration\u001b[0m\u001b[0;34m(\u001b[0m\u001b[0;34m)\u001b[0m\u001b[0;34m\u001b[0m\u001b[0;34m\u001b[0m\u001b[0m\n\u001b[0m\u001b[1;32m    206\u001b[0m     \u001b[0;32mreturn\u001b[0m \u001b[0mretval\u001b[0m\u001b[0;34m\u001b[0m\u001b[0;34m\u001b[0m\u001b[0m\n\u001b[1;32m    207\u001b[0m \u001b[0;34m\u001b[0m\u001b[0m\n",
      "\u001b[0;31mStopIteration\u001b[0m: "
     ]
    }
   ],
   "source": [
    "merged_F =file_io.FileIO(\"gs://bucket-git-m2i/DB/historique/merging_F.csv\",mode=\"w\")    \n",
    "merged_F.write('HomeTeam;AwayTeam;FTHG;FTAG\\n')  \n",
    "for num in range(1,3):\n",
    "    ff = file_io.FileIO(\"gs://bucket-git-m2i/DB/historique/F\"+str(num)+\".csv\",mode=\"r\")\n",
    "    next(ff) # skip the header\n",
    "    for line in ff:\n",
    "        merged_F.write(line)\n",
    "    ff.close() # not really needed\n",
    "merged_F.close()"
   ]
  },
  {
   "cell_type": "markdown",
   "id": "9b7755bd-fa3e-4d65-9fbd-d41cc29788b2",
   "metadata": {},
   "source": [
    "## Se basant sur merging historique -> calcul (dans variables) des statistiques de la ligue (toutes équipes confondues)"
   ]
  },
  {
   "cell_type": "code",
   "execution_count": null,
   "id": "847fe42e-c7dc-4e1a-9d8a-b700d7983ec5",
   "metadata": {},
   "outputs": [],
   "source": [
    "df = pd.read_csv('gs://bucket-git-m2i/DB/historique/merging_F.csv', sep=';')\n",
    "### normalizer tous les noms des equipes dans le dataframe\n",
    "# Home \n",
    "df['HomeTeam'] = df['HomeTeam'].str.strip().str.upper()\n",
    "df['HomeTeam'] = df['HomeTeam'].apply(nom_normalizer)\n",
    "# Away\n",
    "df['AwayTeam'] = df['AwayTeam'].str.strip().str.upper()\n",
    "df['AwayTeam'] = df['AwayTeam'].apply(nom_normalizer)\n",
    "\n",
    "# print(df)\n",
    "\n",
    "home_total = df[['FTHG']].sum()[0]\n",
    "home_average = df[['FTHG']].mean(numeric_only=True)[0]\n",
    "nb_of_matches = df[['HomeTeam']].count()[0]\n",
    "# print(home_total)\n",
    "# print(home_average)\n",
    "# print(nb_of_matches)\n",
    "\n",
    "away_total = df[['FTAG']].sum()[0]\n",
    "away_average = df[['FTAG']].mean(numeric_only=True)[0]\n",
    "# print(away_total)\n",
    "# print(away_average)"
   ]
  },
  {
   "cell_type": "markdown",
   "id": "6ca781fa-c174-49e6-8bf2-6f520e2c37a3",
   "metadata": {},
   "source": [
    "## Calcul d'un scoring de chaque équipe (indépendemment de son adversaire) selon away/home relatif aux buts encaissés et marqués -> création csv reprenant ces résultats"
   ]
  },
  {
   "cell_type": "code",
   "execution_count": null,
   "id": "1732d768-9d18-4c50-9f52-90076486f4cc",
   "metadata": {},
   "outputs": [],
   "source": [
    "with file_io.FileIO('gs://bucket-git-m2i/DB/calendrier/merging.csv',mode=\"r\") as calendrier:\n",
    "    csv_reader = csv.reader(calendrier)\n",
    "    with file_io.FileIO('gs://bucket-git-m2i/DB/golden/final-results.csv', mode='w') as new_file:\n",
    "        # on ouvre un csv pour sauvegarder les resultats\n",
    "        csv_writer = csv.writer(new_file)                \n",
    "\n",
    "        for line in calendrier:# line est un chaine des caracs\n",
    "            data_line = line.split(sep=',') # separer les donnée\n",
    "            domicile = nom_normalizer(data_line[1].strip().upper()) # recuperer l'equipe domicile\n",
    "            visiteur = nom_normalizer(data_line[2].strip().upper()) # recuperer l'equipe visiteur\n",
    "            \n",
    "            \n",
    "            team_home_df = df[df['HomeTeam']==domicile]\n",
    "            team_home_total = team_home_df[['FTHG']].sum()[0]\n",
    "            team_home_average = team_home_df[['FTHG']].mean()[0]\n",
    "            home_conceed_total = team_home_df[['FTAG']].sum()[0]\n",
    "            home_conceed_average = team_home_df[['FTAG']].mean()[0]\n",
    "            nb_matches_home = team_home_df[['FTAG']].count()[0]\n",
    "            home_attack_str = (team_home_average / home_average)\n",
    "            home_defence_str = (home_conceed_average / away_average)\n",
    "\n",
    "            team_away_df = df[df['AwayTeam']==visiteur]\n",
    "            away_score_total = team_away_df[['FTAG']].sum()[0]\n",
    "            away_score_average = team_away_df[['FTAG']].mean()[0]\n",
    "            away_conceed_total = team_away_df[['FTHG']].sum()[0]\n",
    "            away_conceed_average = team_away_df[['FTHG']].mean()[0]\n",
    "            nb_matches_away = team_away_df[['FTHG']].count()[0]\n",
    "            away_attack_str = (away_score_average / away_average)\n",
    "            away_defence_str = (away_conceed_average / home_average)\n",
    "\n",
    "            #csv_writer.writerow(str(away_attack_str)+','+str(away_defence_str)+'\\n')\n",
    "            new_file.write(str(domicile)+','+str(visiteur)+','+str(home_attack_str).strip()+','+str(home_defence_str).strip()+','+str(away_attack_str).strip()+','+str(away_defence_str).strip()+'\\n')"
   ]
  },
  {
   "cell_type": "markdown",
   "id": "e121b8a6-a274-4114-b689-706669d18389",
   "metadata": {},
   "source": [
    "## Calcul des probabilités du résultat (draw / home_win / away_win) -> création csv reprenant ces résultats"
   ]
  },
  {
   "cell_type": "code",
   "execution_count": null,
   "id": "9c198675-55b8-4092-a72b-c92031b31744",
   "metadata": {},
   "outputs": [],
   "source": [
    "with file_io.FileIO('gs://bucket-git-m2i/DB/golden/final-results.csv', mode='r') as matchs:\n",
    "    csv_reader = csv.reader(matchs)\n",
    "    with file_io.FileIO('gs://bucket-git-m2i/DB/golden/match-prob.csv', mode='w') as probs:\n",
    "        # on ouvre un csv pour sauvegarder les resultats\n",
    "        csv_writer = csv.writer(probs) \n",
    "        for line in matchs: # line est un chaine des caracs\n",
    "            data_line = line.split(sep=',') # separer les donnée\n",
    "            domicile = nom_normalizer(data_line[0].strip().upper()) # recuperer l'equipe domicile\n",
    "            visiteur = nom_normalizer(data_line[1].strip().upper()) # recuperer l'equipe visiteur\n",
    "            away_attack_str = data_line[2].strip()\n",
    "            away_defence_str = data_line[3].strip()\n",
    "            home_defence_str = data_line[4].strip()\n",
    "            home_attack_str = data_line[5].strip()\n",
    "\n",
    "            home_expect = float(home_attack_str) * float(away_defence_str) * float(home_average)\n",
    "            away_expect = float(away_attack_str) * float(home_defence_str) * float(away_average)\n",
    "            def poisson_probability(l, x):\n",
    "                probability = ((l**x) * math.exp(-l)) / math.factorial(x)\n",
    "                return probability*100\n",
    "            home_goals_prob = []\n",
    "            for i in range(8):\n",
    "                expect = poisson_probability(home_expect, i)\n",
    "                home_goals_prob.append(expect)\n",
    "            home_goals_probs = np.round(home_goals_prob,2)\n",
    "            away_goals_prob = []\n",
    "            for i in range(8):\n",
    "                expect = poisson_probability(away_expect, i)\n",
    "                away_goals_prob.append(expect)  \n",
    "            away_goals_probs = np.round(away_goals_prob,2) \n",
    "            p = {'Home0':[((home_goals_probs[0]*away_goals_probs[0])/100), ((home_goals_probs[0]*away_goals_probs[1])/100), ((home_goals_probs[0]*away_goals_probs[2])/100), ((home_goals_probs[0]*away_goals_probs[3])/100), ((home_goals_probs[0]*away_goals_probs[4])/100), ((home_goals_probs[0]*away_goals_probs[5])/100),((home_goals_probs[0]*away_goals_probs[6])/100),((home_goals_probs[0]*away_goals_probs[7])/100)], \n",
    "                'Home1':[((home_goals_probs[1]*away_goals_probs[0])/100), ((home_goals_probs[1]*away_goals_probs[1])/100), ((home_goals_probs[1]*away_goals_probs[2])/100), ((home_goals_probs[1]*away_goals_probs[3])/100), ((home_goals_probs[1]*away_goals_probs[4])/100), ((home_goals_probs[1]*away_goals_probs[5])/100),((home_goals_probs[1]*away_goals_probs[6])/100),((home_goals_probs[1]*away_goals_probs[7])/100)], \n",
    "                'Home2':[((home_goals_probs[2]*away_goals_probs[0])/100), ((home_goals_probs[2]*away_goals_probs[1])/100), ((home_goals_probs[2]*away_goals_probs[2])/100), ((home_goals_probs[2]*away_goals_probs[3])/100), ((home_goals_probs[2]*away_goals_probs[4])/100), ((home_goals_probs[2]*away_goals_probs[5])/100),((home_goals_probs[2]*away_goals_probs[6])/100),((home_goals_probs[2]*away_goals_probs[7])/100)], \n",
    "                'Home3':[((home_goals_probs[3]*away_goals_probs[0])/100), ((home_goals_probs[3]*away_goals_probs[1])/100), ((home_goals_probs[3]*away_goals_probs[2])/100), ((home_goals_probs[3]*away_goals_probs[3])/100), ((home_goals_probs[3]*away_goals_probs[4])/100), ((home_goals_probs[3]*away_goals_probs[5])/100),((home_goals_probs[3]*away_goals_probs[6])/100),((home_goals_probs[3]*away_goals_probs[7])/100)], \n",
    "                'Home4':[((home_goals_probs[4]*away_goals_probs[0])/100), ((home_goals_probs[4]*away_goals_probs[1])/100), ((home_goals_probs[4]*away_goals_probs[2])/100), ((home_goals_probs[4]*away_goals_probs[3])/100), ((home_goals_probs[4]*away_goals_probs[4])/100), ((home_goals_probs[4]*away_goals_probs[5])/100),((home_goals_probs[4]*away_goals_probs[6])/100),((home_goals_probs[4]*away_goals_probs[7])/100)], \n",
    "                'Home5':[((home_goals_probs[5]*away_goals_probs[0])/100), ((home_goals_probs[5]*away_goals_probs[1])/100), ((home_goals_probs[5]*away_goals_probs[2])/100), ((home_goals_probs[5]*away_goals_probs[3])/100), ((home_goals_probs[5]*away_goals_probs[4])/100), ((home_goals_probs[5]*away_goals_probs[5])/100),((home_goals_probs[5]*away_goals_probs[6])/100),((home_goals_probs[5]*away_goals_probs[7])/100)],\n",
    "                'Home6':[((home_goals_probs[6]*away_goals_probs[0])/100), ((home_goals_probs[6]*away_goals_probs[1])/100), ((home_goals_probs[6]*away_goals_probs[2])/100), ((home_goals_probs[6]*away_goals_probs[3])/100), ((home_goals_probs[6]*away_goals_probs[4])/100), ((home_goals_probs[6]*away_goals_probs[5])/100),((home_goals_probs[6]*away_goals_probs[6])/100),((home_goals_probs[6]*away_goals_probs[7])/100)],\n",
    "                'Home7':[((home_goals_probs[7]*away_goals_probs[0])/100), ((home_goals_probs[7]*away_goals_probs[1])/100), ((home_goals_probs[7]*away_goals_probs[2])/100), ((home_goals_probs[7]*away_goals_probs[3])/100), ((home_goals_probs[7]*away_goals_probs[4])/100), ((home_goals_probs[7]*away_goals_probs[5])/100),((home_goals_probs[7]*away_goals_probs[6])/100),((home_goals_probs[7]*away_goals_probs[7])/100)]}\n",
    "            probability = pd.DataFrame(p, index=['away0','away1','away2', 'away3', 'away4', 'away5', 'away6', 'away7'])\n",
    "            nump = probability.to_numpy()\n",
    "            draw_prob = np.trace(nump)\n",
    "            Home_win_prob = (np.trace(nump, offset = 1))+(np.trace(nump, offset = 2))+(np.trace(nump, offset = 3))+(np.trace(nump, offset = 4))+(np.trace(nump, offset = 5))+(np.trace(nump, offset = 6))\n",
    "            away_win_prob = (np.trace(nump, offset = -1))+(np.trace(nump, offset = -2))+(np.trace(nump, offset = -3))+(np.trace(nump, offset = -4))+(np.trace(nump, offset = -5))+(np.trace(nump, offset = -6))\n",
    "            probs.write(domicile+','+visiteur+','+str(draw_prob).strip()+','+str(Home_win_prob)+','+str(away_win_prob)+','+'\\n')\n",
    "matchs.close()\n",
    "probs.close()"
   ]
  },
  {
   "cell_type": "code",
   "execution_count": null,
   "id": "3d3c29cd-b8e2-45ef-bc41-0c743108d06d",
   "metadata": {},
   "outputs": [],
   "source": []
  }
 ],
 "metadata": {
  "environment": {
   "kernel": "python3",
   "name": "common-cu110.m95",
   "type": "gcloud",
   "uri": "gcr.io/deeplearning-platform-release/base-cu110:m95"
  },
  "kernelspec": {
   "display_name": "Python 3",
   "language": "python",
   "name": "python3"
  },
  "language_info": {
   "codemirror_mode": {
    "name": "ipython",
    "version": 3
   },
   "file_extension": ".py",
   "mimetype": "text/x-python",
   "name": "python",
   "nbconvert_exporter": "python",
   "pygments_lexer": "ipython3",
   "version": "3.7.12"
  }
 },
 "nbformat": 4,
 "nbformat_minor": 5
}
