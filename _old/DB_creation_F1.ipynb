{
 "cells": [
  {
   "cell_type": "markdown",
   "id": "66ba038f",
   "metadata": {},
   "source": [
    "# Pipeline pour construire une BDD et la sauvegarder dans le bucket calendrier"
   ]
  },
  {
   "cell_type": "code",
   "execution_count": 1,
   "id": "814a707d",
   "metadata": {},
   "outputs": [],
   "source": [
    "import datetime\n",
    "import urllib.request\n",
    "import csv\n",
    "import os\n",
    "import subprocess\n"
   ]
  },
  {
   "cell_type": "markdown",
   "id": "6b6c3560",
   "metadata": {},
   "source": [
    "## parametres des années à scrapper\n"
   ]
  },
  {
   "cell_type": "code",
   "execution_count": 2,
   "id": "6af98203",
   "metadata": {},
   "outputs": [],
   "source": [
    "yr_dbt = 16\n",
    "currentDateTime = datetime.datetime.now()\n",
    "date = currentDateTime.date()\n",
    "yr_fin = int(date.strftime(\"%y\"))\n"
   ]
  },
  {
   "cell_type": "markdown",
   "id": "802c02da",
   "metadata": {},
   "source": [
    "## creation d'une destination local\n",
    "1. verifier si le dossier existe sinon le creer temporairement\n",
    "2. telecharger les fichiers data en question dans le dossier"
   ]
  },
  {
   "cell_type": "code",
   "execution_count": 3,
   "id": "e64cf585",
   "metadata": {},
   "outputs": [],
   "source": [
    "s_dir=\"./data_F1/\"\n",
    "if not os.path.exists(s_dir):\n",
    "    os.mkdir(s_dir)\n",
    "for i in range(yr_dbt,yr_fin):\n",
    "    urllib.request.urlretrieve(f\"https://www.football-data.co.uk/mmz4281/{i}{i+1}/F1.csv\", f\"./{s_dir}F1_{i}_{i+1}.csv\")\n",
    "#Div\tDate\tTime\tHomeTeam\tAwayTeam\tFTHG\tFTAG\tFTR\tHTHG\tHTAG\tHTR\tHS\tAS\tHST\tAST\tHF\tAF\tHC\tAC\tHY\tAY\tHR\tAR\tB365H\tB365D\tB365A\tBWH\tBWD\tBWA\tIWH\tIWD\tIWA\tPSH\tPSD\tPSA\tWHH\tWHD\tWHA\tVCH\tVCD\tVCA\tMaxH\tMaxD\tMaxA\tAvgH\tAvgD\tAvgA\tB365>2.5\tB365<2.5\tP>2.5\tP<2.5\tMax>2.5\tMax<2.5\tAvg>2.5\tAvg<2.5\tAHh\tB365AHH\tB365AHA\tPAHH\tPAHA\tMaxAHH\tMaxAHA\tAvgAHH\tAvgAHA\tB365CH\tB365CD\tB365CA\tBWCH\tBWCD\tBWCA\tIWCH\tIWCD\tIWCA\tPSCH\tPSCD\tPSCA\tWHCH\tWHCD\tWHCA\tVCCH\tVCCD\tVCCA\tMaxCH\tMaxCD\tMaxCA\tAvgCH\tAvgCD\tAvgCA\tB365C>2.5\tB365C<2.5\tPC>2.5\tPC<2.5\tMaxC>2.5\tMaxC<2.5\tAvgC>2.5\tAvgC<2.5\tAHCh\tB365CAHH\tB365CAHA\tPCAHH\tPCAHA\tMaxCAHH\tMaxCAHA\tAvgCAHH\tAvgCAHA"
   ]
  },
  {
   "cell_type": "markdown",
   "id": "afe623e2",
   "metadata": {},
   "source": [
    "## creation un seul fichier data pour toutes les données scrappées"
   ]
  },
  {
   "cell_type": "code",
   "execution_count": 4,
   "id": "2dea2244",
   "metadata": {},
   "outputs": [],
   "source": [
    "merged =open(s_dir+\"F1.csv\",\"w\")    \n",
    "#merged.write('HomeTeam,AwayTeam,FTHG,FTAG\\n')  \n",
    "for yr in range(16,22):\n",
    "    if yr<19 :\n",
    "        f = open(f\"{s_dir}F1_{yr}_{yr+1}.csv\")\n",
    "        freading = csv.reader(f,delimiter=',')\n",
    "        next(freading) # skip the header\n",
    "        for ligne in freading:\n",
    "            merged.write(ligne[2]+','+ligne[3]+','+ligne[4]+','+ligne[5]+'\\n')\n",
    "        f.close() # not really needed\n",
    "    else:\n",
    "        f = open(f\"{s_dir}F1_{yr}_{yr+1}.csv\")\n",
    "        freading = csv.reader(f,delimiter=',')\n",
    "        next(freading) # skip the header\n",
    "        for ligne in freading:\n",
    "            merged.write(ligne[3]+','+ligne[4]+','+ligne[5]+','+ligne[6]+'\\n')\n",
    "        f.close() # not really needed\n",
    "\n",
    "merged.close()"
   ]
  },
  {
   "cell_type": "markdown",
   "id": "04c3f76a",
   "metadata": {},
   "source": [
    "## Deplacer le BDD final (le fichier F1 avec les fichiers telechargés) à notre bucket dans le chemin destiné"
   ]
  },
  {
   "cell_type": "code",
   "execution_count": 5,
   "id": "73054f38",
   "metadata": {},
   "outputs": [
    {
     "name": "stderr",
     "output_type": "stream",
     "text": [
      "Copying file://./data_F1/F1.csv [Content-Type=text/csv]...\n",
      "/ [1 files][ 40.8 KiB/ 40.8 KiB]                                                \n",
      "Operation completed over 1 objects/40.8 KiB.                                     \n",
      "Copying file://././data_F1/F1_16_17.csv [Content-Type=text/csv]...\n",
      "/ [1 files][ 92.7 KiB/ 92.7 KiB]                                                \n",
      "Operation completed over 1 objects/92.7 KiB.                                     \n",
      "Copying file://././data_F1/F1_17_18.csv [Content-Type=text/csv]...\n",
      "/ [1 files][ 93.1 KiB/ 93.1 KiB]                                                \n",
      "Operation completed over 1 objects/93.1 KiB.                                     \n",
      "Copying file://././data_F1/F1_18_19.csv [Content-Type=text/csv]...\n",
      "/ [1 files][ 89.7 KiB/ 89.7 KiB]                                                \n",
      "Operation completed over 1 objects/89.7 KiB.                                     \n",
      "Copying file://././data_F1/F1_19_20.csv [Content-Type=text/csv]...\n",
      "/ [1 files][122.1 KiB/122.1 KiB]                                                \n",
      "Operation completed over 1 objects/122.1 KiB.                                    \n",
      "Copying file://././data_F1/F1_20_21.csv [Content-Type=text/csv]...\n",
      "/ [1 files][166.5 KiB/166.5 KiB]                                                \n",
      "Operation completed over 1 objects/166.5 KiB.                                    \n",
      "Copying file://././data_F1/F1_21_22.csv [Content-Type=text/csv]...\n",
      "/ [1 files][167.3 KiB/167.3 KiB]                                                \n",
      "Operation completed over 1 objects/167.3 KiB.                                    \n"
     ]
    }
   ],
   "source": [
    "path_local = f\"{s_dir}F1.csv\"\n",
    "path_bucket = \"gs://bucket-git-m2i/DB/calendrier\"\n",
    "subprocess.call(f\"gsutil cp {path_local} {path_bucket}\", shell=True)\n",
    "for i in range(yr_dbt,yr_fin):\n",
    "    subprocess.call(f\"gsutil cp ./{s_dir}F1_{i}_{i+1}.csv {path_bucket}\", shell=True)\n"
   ]
  },
  {
   "cell_type": "markdown",
   "id": "8e6f20f2",
   "metadata": {},
   "source": [
    "## Liberer l'espace local par supprimer le dossier creer temporairement"
   ]
  },
  {
   "cell_type": "code",
   "execution_count": 6,
   "id": "717f8820",
   "metadata": {},
   "outputs": [],
   "source": [
    "!rm -r $s_dir"
   ]
  },
  {
   "cell_type": "code",
   "execution_count": null,
   "id": "690b1792",
   "metadata": {},
   "outputs": [],
   "source": []
  }
 ],
 "metadata": {
  "environment": {
   "kernel": "python3",
   "name": "common-cu110.m95",
   "type": "gcloud",
   "uri": "gcr.io/deeplearning-platform-release/base-cu110:m95"
  },
  "kernelspec": {
   "display_name": "Python 3",
   "language": "python",
   "name": "python3"
  },
  "language_info": {
   "codemirror_mode": {
    "name": "ipython",
    "version": 3
   },
   "file_extension": ".py",
   "mimetype": "text/x-python",
   "name": "python",
   "nbconvert_exporter": "python",
   "pygments_lexer": "ipython3",
   "version": "3.7.12"
  },
  "vscode": {
   "interpreter": {
    "hash": "31f2aee4e71d21fbe5cf8b01ff0e069b9275f58929596ceb00d14d90e3e16cd6"
   }
  }
 },
 "nbformat": 4,
 "nbformat_minor": 5
}
