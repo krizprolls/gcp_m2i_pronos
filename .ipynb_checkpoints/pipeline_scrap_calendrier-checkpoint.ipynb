{
 "cells": [
  {
   "cell_type": "code",
   "execution_count": 22,
   "id": "0f3c2652-fe30-49ae-8a33-73aaa25ed049",
   "metadata": {},
   "outputs": [
    {
     "name": "stdout",
     "output_type": "stream",
     "text": [
      "['/home/jupyter/gcp_m2i_pronos', '/opt/conda/lib/python37.zip', '/opt/conda/lib/python3.7', '/opt/conda/lib/python3.7/lib-dynload', '', '/opt/conda/lib/python3.7/site-packages', '/opt/conda/lib/python3.7/site-packages/IPython/extensions', '/home/jupyter/.ipython', '/home/jupyter/gcp_m2i_pronos', '/home/jupyter/gcp_m2i_pronos/function.py']\n"
     ]
    }
   ],
   "source": [
    "import sys\n",
    "sys.path.append('/home/jupyter/gcp_m2i_pronos/function.py')\n",
    "print(sys.path)"
   ]
  },
  {
   "cell_type": "code",
   "execution_count": 27,
   "id": "df4b8a79-6aa3-4379-8bad-af5a23d8d48e",
   "metadata": {},
   "outputs": [
    {
     "ename": "ModuleNotFoundError",
     "evalue": "No module named 'function.py'; 'function' is not a package",
     "output_type": "error",
     "traceback": [
      "\u001b[0;31m---------------------------------------------------------------------------\u001b[0m",
      "\u001b[0;31mModuleNotFoundError\u001b[0m                       Traceback (most recent call last)",
      "\u001b[0;32m/tmp/ipykernel_20032/2313177735.py\u001b[0m in \u001b[0;36m<module>\u001b[0;34m\u001b[0m\n\u001b[1;32m      3\u001b[0m \u001b[0;32mimport\u001b[0m \u001b[0mpandas\u001b[0m \u001b[0;32mas\u001b[0m \u001b[0mpd\u001b[0m\u001b[0;34m\u001b[0m\u001b[0;34m\u001b[0m\u001b[0m\n\u001b[1;32m      4\u001b[0m \u001b[0;31m# import function\u001b[0m\u001b[0;34m\u001b[0m\u001b[0;34m\u001b[0m\u001b[0;34m\u001b[0m\u001b[0m\n\u001b[0;32m----> 5\u001b[0;31m \u001b[0;32mfrom\u001b[0m \u001b[0mfunction\u001b[0m\u001b[0;34m.\u001b[0m\u001b[0mpy\u001b[0m \u001b[0;32mimport\u001b[0m \u001b[0mnom_normalizer\u001b[0m\u001b[0;34m\u001b[0m\u001b[0;34m\u001b[0m\u001b[0m\n\u001b[0m",
      "\u001b[0;31mModuleNotFoundError\u001b[0m: No module named 'function.py'; 'function' is not a package"
     ]
    }
   ],
   "source": [
    "from lxml import html\n",
    "import requests\n",
    "import pandas as pd\n",
    "# import function\n",
    "from function.py import nom_normalizer"
   ]
  },
  {
   "cell_type": "markdown",
   "id": "ce15e7de-0ff7-4d55-9df2-fabe92fec020",
   "metadata": {},
   "source": [
    "## Scrap du calendrier des matchs à venir -> construction d'un fichier CSV par journée qui liste les 10 matchs (home, away, url)"
   ]
  },
  {
   "cell_type": "code",
   "execution_count": 20,
   "id": "bcb23b27-d0e5-4fc7-a9b5-910431b8ec78",
   "metadata": {},
   "outputs": [
    {
     "ename": "NameError",
     "evalue": "name 'nom_normalizer' is not defined",
     "output_type": "error",
     "traceback": [
      "\u001b[0;31m---------------------------------------------------------------------------\u001b[0m",
      "\u001b[0;31mNameError\u001b[0m                                 Traceback (most recent call last)",
      "\u001b[0;32m/tmp/ipykernel_20032/958610906.py\u001b[0m in \u001b[0;36m<module>\u001b[0;34m\u001b[0m\n\u001b[1;32m     27\u001b[0m         \u001b[0;31m# le resultat de tree.xpath sera en forme de liste\u001b[0m\u001b[0;34m\u001b[0m\u001b[0;34m\u001b[0m\u001b[0;34m\u001b[0m\u001b[0m\n\u001b[1;32m     28\u001b[0m         \u001b[0;31m# il faut index[0] et .text pour recuperer le contenu\u001b[0m\u001b[0;34m\u001b[0m\u001b[0;34m\u001b[0m\u001b[0;34m\u001b[0m\u001b[0m\n\u001b[0;32m---> 29\u001b[0;31m         \u001b[0mequipe_home\u001b[0m\u001b[0;34m.\u001b[0m\u001b[0mappend\u001b[0m\u001b[0;34m(\u001b[0m\u001b[0mnom_normalizer\u001b[0m\u001b[0;34m(\u001b[0m\u001b[0mtree\u001b[0m\u001b[0;34m.\u001b[0m\u001b[0mxpath\u001b[0m\u001b[0;34m(\u001b[0m\u001b[0;34mf'//*[@id=\"{each_id}_match-result\"]/a/div[1]/div/span[1]'\u001b[0m\u001b[0;34m)\u001b[0m\u001b[0;34m[\u001b[0m\u001b[0;36m0\u001b[0m\u001b[0;34m]\u001b[0m\u001b[0;34m.\u001b[0m\u001b[0mtext\u001b[0m\u001b[0;34m)\u001b[0m\u001b[0;34m)\u001b[0m\u001b[0;34m\u001b[0m\u001b[0;34m\u001b[0m\u001b[0m\n\u001b[0m\u001b[1;32m     30\u001b[0m         \u001b[0mequipe_away\u001b[0m\u001b[0;34m.\u001b[0m\u001b[0mappend\u001b[0m\u001b[0;34m(\u001b[0m\u001b[0mnom_normalizer\u001b[0m\u001b[0;34m(\u001b[0m\u001b[0mtree\u001b[0m\u001b[0;34m.\u001b[0m\u001b[0mxpath\u001b[0m\u001b[0;34m(\u001b[0m\u001b[0;34mf'//*[@id=\"{each_id}_match-result\"]/a/div[3]/div/span[1]'\u001b[0m\u001b[0;34m)\u001b[0m\u001b[0;34m[\u001b[0m\u001b[0;36m0\u001b[0m\u001b[0;34m]\u001b[0m\u001b[0;34m.\u001b[0m\u001b[0mtext\u001b[0m\u001b[0;34m)\u001b[0m\u001b[0;34m)\u001b[0m\u001b[0;34m\u001b[0m\u001b[0;34m\u001b[0m\u001b[0m\n\u001b[1;32m     31\u001b[0m         \u001b[0;31m# Afin d'avoir acceder à la page de detailles de match\u001b[0m\u001b[0;34m\u001b[0m\u001b[0;34m\u001b[0m\u001b[0;34m\u001b[0m\u001b[0m\n",
      "\u001b[0;31mNameError\u001b[0m: name 'nom_normalizer' is not defined"
     ]
    }
   ],
   "source": [
    "# journée à scrapper\n",
    "for journee in range(1,39): # journée de 1 à 23 (index final = 24-1)\n",
    "    # url de la site à scrapper\n",
    "    url_a_scrapper = f\"https://www.ligue1.fr/calendrier-resultats?seasonId=2022-2023&matchDay={journee}\"\n",
    "    # url principale de la site\n",
    "    url_base = \"https://www.ligue1.fr\"\n",
    "    # request pour avoir le corps de code de la page à scrapper\n",
    "    resp = requests.get(url_a_scrapper)\n",
    "    # trier la contnue du code de la page comme un arbre de html\n",
    "    tree = html.fromstring(resp.content)\n",
    "\n",
    "    # scrape toutes les id des matchs dans la page\n",
    "    match_id = []\n",
    "    match_id_code = tree.xpath('/html/body/main/div[3]/div[2]/div/div[2]/ul[*]/li/a/div[2]')\n",
    "    for each_id in match_id_code:\n",
    "        # if va chercher dans chaque balise a id son contenu \n",
    "        # et l'ajouter dans la liste de match_id\n",
    "        match_id.append(each_id.attrib[\"id\"])\n",
    "\n",
    "    # recuperer les elements à chercher par leurs xpath\n",
    "    equipe_home = []\n",
    "    equipe_away = []\n",
    "    match_href = []\n",
    "    match_url = []\n",
    "    i=0\n",
    "    for each_id in match_id:\n",
    "        # le resultat de tree.xpath sera en forme de liste \n",
    "        # il faut index[0] et .text pour recuperer le contenu\n",
    "        equipe_home.append(nom_normalizer(tree.xpath(f'//*[@id=\"{each_id}_match-result\"]/a/div[1]/div/span[1]')[0].text))\n",
    "        equipe_away.append(nom_normalizer(tree.xpath(f'//*[@id=\"{each_id}_match-result\"]/a/div[3]/div/span[1]')[0].text))\n",
    "        # Afin d'avoir acceder à la page de detailles de match\n",
    "        # on scrape le lien de chaque match et on l'ajout à la url_base\n",
    "        # afin de deviner un lien complet\n",
    "        # ici le resultat de tree.xpath a plusieurs attributes\n",
    "        # donc on choisis l'attribue concerné par [0].attrib[\"href\"]\n",
    "        # href c'est l'attribue nous interesse\n",
    "        match_href.append(tree.xpath(f'//*[@id=\"{each_id}_match-result\"]/a'))\n",
    "        match_url.append(url_base + match_href[i][0].attrib[\"href\"])\n",
    "        i+=1\n",
    "#     for i in range(10):\n",
    "#         print(i+1,\" - \",equipe_home[i],\"\\t\", equipe_away[i],\"\\n url: \", match_url[i],\"\\n\")\n",
    "\n",
    "    # zipper les informations des listes dans un dataframe\n",
    "    # avec 3 columns correspondant à chaque liste\n",
    "    # et les sauvegarder dans un fichier CSV\n",
    "    df_journee_1 = pd.DataFrame(list(zip(equipe_home, equipe_away, match_url)), \n",
    "                        columns =['Equipe HOME', 'Equipe AWAY', 'URL']) \n",
    "    df_journee_1.to_csv(f'gs://bucket-git-m2i/DB/calendrier/journee_{journee}.csv', index=False)"
   ]
  },
  {
   "cell_type": "code",
   "execution_count": null,
   "id": "83b221d2",
   "metadata": {},
   "outputs": [],
   "source": []
  }
 ],
 "metadata": {
  "environment": {
   "kernel": "python3",
   "name": "common-cu110.m95",
   "type": "gcloud",
   "uri": "gcr.io/deeplearning-platform-release/base-cu110:m95"
  },
  "kernelspec": {
   "display_name": "Python 3",
   "language": "python",
   "name": "python3"
  },
  "language_info": {
   "codemirror_mode": {
    "name": "ipython",
    "version": 3
   },
   "file_extension": ".py",
   "mimetype": "text/x-python",
   "name": "python",
   "nbconvert_exporter": "python",
   "pygments_lexer": "ipython3",
   "version": "3.7.12"
  }
 },
 "nbformat": 4,
 "nbformat_minor": 5
}
