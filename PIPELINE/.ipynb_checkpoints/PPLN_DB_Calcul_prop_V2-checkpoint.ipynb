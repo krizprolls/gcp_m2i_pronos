{
 "cells": [
  {
   "cell_type": "markdown",
   "id": "14e92976-2559-4e72-8d14-1c2dd4477ef1",
   "metadata": {},
   "source": [
    "## PIPELINE calcul des probabilités du résultat (draw, home_win, away_win)\n",
    "### ==> création csv reprenant ces résultats"
   ]
  },
  {
   "cell_type": "markdown",
   "id": "51971457-c123-40ee-8be7-df53ce3a67e1",
   "metadata": {},
   "source": [
    "### IMPORT"
   ]
  },
  {
   "cell_type": "code",
   "execution_count": null,
   "id": "34841ad3-24e9-4f41-84c3-5d125f23f5a2",
   "metadata": {},
   "outputs": [],
   "source": [
    "!pip install numpy"
   ]
  },
  {
   "cell_type": "code",
   "execution_count": null,
   "id": "b6387a8d-6ae8-4bb8-a5e2-1b594535aa93",
   "metadata": {},
   "outputs": [],
   "source": [
    "import os\n",
    "import pandas as pd\n",
    "import numpy as np\n",
    "import math\n",
    "from google.cloud import bigquery"
   ]
  },
  {
   "cell_type": "markdown",
   "id": "4c7d8e64-c2ba-43be-9a49-24e5f3b96479",
   "metadata": {},
   "source": [
    "### DEFINITION FONCTIONS"
   ]
  },
  {
   "cell_type": "code",
   "execution_count": null,
   "id": "a11078ba-564f-42af-810e-8446ce261967",
   "metadata": {},
   "outputs": [],
   "source": [
    "def nom_normalizer(equipe_a_normaliser):\n",
    "    teams = {\n",
    "        'OLYMPIQUE LYONNAIS': ['OLYMPIQUE LYONNAIS', 'LYON', 'OL', 'O.L.'], \n",
    "        'AC AJACCIO': ['AC AJACCIO', 'AJACCIO', 'ACA', 'A.C.A', 'ATHLETIC CLUB AJACCIEN','A-C AJACCIO','A.C AJACCIO'],\n",
    "        'RC STRASBOURG ALSACE' : ['STRASBOURG','RACING CLUB DE STRASBOURG ALSACE', 'RC STRASBOURG','R.C. STRASBOURG','R.C.S.','RCS', 'R.C.S.A.', 'RC STRASBOURG ALSACE', 'R.C. STRASBOURG ALSACE'], \n",
    "        'AS MONACO': ['AS MONACO', 'MONACO', 'ASSOCIATION SPORTIVE DE MONACO FOOTBALL CLUB', 'AS MONACO FC', 'A.S MONACO F.C', 'ASM'], \n",
    "        'CLERMONT FOOT 63': ['CLERMONT FOOT 63', 'CLERMONT-FERRAND', 'CF63', 'C.F.63', 'C-F 63', 'CLERMONT', 'CLERMONT FOOT'], \n",
    "        'PARIS SAINT GERMAIN': ['PARIS SAINT GERMAIN', 'PARIS-SAINT-GERMAIN FOOTBALL CLUB', 'PSG', 'P.S.G.', 'PARIS SG', 'PARIS-SG', 'PARIS SAINT-GERMAIN', 'PARIS SAINT-GERMAIN FOOTBALL CLUB', 'PARIS SAINT-GERMAIN FC'], \n",
    "        'TOULOUSE FC' : ['TOULOUSE', 'TOULOUSE FOOTBALL CLUB', 'TFC', 'T.F.C.', 'TOULOUSE FC', 'TOULOUSE F.C.'], \n",
    "        'OGC NICE': ['NICE', \"OLYMPIQUE GYMNASTE CLUB NICE COTE D'AZUR\", 'OGC NICE', 'O.G.C. NICE', \"OGC NICE COTE D'AZUR\", \"O.G.C. NICE COTE D'AZUR\", 'OLYMPIQUE GYMNASTE CLUB NICE'], \n",
    "        'ANGERS SCO': ['ANGERS SCO', 'ANGERS', \"SCO D'ANGERS\", 'SCOA', \"ANGERS SPORTING CLUB DE L'OUEST\", 'SCO ANGERS', 'ANGERS-SCO', 'ANGERS S.C.O.', 'S.C.O. ANGERS'], \n",
    "        'FC NANTES' : ['FC NANTES', 'NANTES', 'FOOTBALL CLUB DE NANTES', 'F.C. NANTES', 'FCN', 'F.C.N.'], \n",
    "        'RC LENS': ['RC LENS', 'LENS', 'RACING CLUB DE LENS', 'RCL', 'R.C.L.', 'R.C. LENS'], \n",
    "        'STADE BRESTOIS': ['STADE BRESTOIS', 'BREST', 'STADE BRESTOIS 29', 'SB29', 'S.B.29', 'S.B. 29'], \n",
    "        'LOSC LILLE': ['LOSC LILLE', 'LILLE', 'LOSC', 'LILLE OLYMPIQUE SPORTING CLUB', 'L.O.S.C.', 'L.O.S.C. LILLE'], \n",
    "        'AJ AUXERRE': ['AJ AUXERRE', 'AUXERRE', 'AJA', 'ASSOCIATION DE LA JEUNESSE AUXERROISE', 'A.J.AUXERRE', 'A.J AUXERRE'], \n",
    "        'MONTPELLIER HERAULT SC': ['MONTPELLIER HÃ‰RAULT SC', 'MONTPELLIER HÉRAULT SC','MONTPELLIER HÉRAULT', 'MONTPELLIER', 'MONTPELLIER-HERAULT SPORT CLUB', 'MONTPELLIER HERAULT SPORT CLUB', 'MONTPELLIER HSC', 'MHSC', 'MONTPELLIER-HERAULT SC', 'MONTPELLIER-HÉRAULT SC', 'MONTPELLIER-HERAULT S.C.', 'M.H.S.C.', 'MONTPELLIER HERAULT SC', 'MONTPELLIER HÉRAULT SC', 'MONTPELLIER HERAULT S.C.'], \n",
    "        'ESTAC TROYES': ['TROYES', 'ESPERANCE SPORTIVE TROYES AUBE CHAMPAGNE', 'ESTAC', 'E.S.T.A.C.', 'ESTAC TROYES', 'E.S.T.A.C. TROYES'], \n",
    "        'STADE RENNAIS FC': ['RENNES', 'STADE RENNAIS FOOTBALL CLUB', 'STADE RENNAIS', 'STADE RENNAIS FC', 'S.R.F.C.', 'STADE RENNAIS F.C.'], \n",
    "        'FC LORIENT': ['FC LORIENT', 'LORIENT', 'FOOTBALL CLUB LORIENT BRETAGNE SUD', 'FCL', 'F.C.L.', 'F.C. LORIENT', 'FC LORIENT BRETAGNE SUD', 'FOOTBALL CLUB LORIENTAIS'], \n",
    "        'OLYMPIQUE DE MARSEILLE': ['OLYMPIQUE DE MARSEILLE', 'MARSEILLE', 'OM', 'O.M.'],\n",
    "        'STADE DE REIMS': ['STADE DE REIMS', 'REIMS', 'STADE REIMS'],\n",
    "        'DIJON': ['DIJON', 'DIJON FCO', 'DFCO', \"DIJON FOOTBALL COTE-D'OR\", \"DIJON FOOTBALL CÔTE-D'OR\"],\n",
    "        'SAINT ETIENNE': ['ST ETIENNE', 'ST-ETIENNE', 'ST ÉTIENNE', 'ST-ÉTIENNE', 'SAINT ETIENNE', 'SAINT-ETIENNE', 'SAINT ÉTIENNE', 'SAINT-ÉTIENNE', 'ASSE','AS SAINT ETIENNE', 'AS SAINT-ETIENNE', 'AS SAINT-ÉTIENNE', 'AS SAINT-ÉTIENNE'],\n",
    "        'BORDEAUX': ['BORDEAUX', 'FOOTBALL CLUB DES GIRONDINS DE BORDEAUX', 'FC GIRONDINS DE BORDEAUX', 'GIRONDINS DE BORDEAUX', 'FCG BORDEAUX', 'FOOTBALL CLUB GIRONDINS DE BORDEAUX'],\n",
    "        'METZ': ['METZ', 'FC METZ', 'FOOTBALL CLUB DE METZ', 'FOOTBALL CLUB METZ']}\n",
    "    resultat = equipe_a_normaliser\n",
    "    for equipe_name in teams:\n",
    "        if equipe_a_normaliser in teams[equipe_name]:\n",
    "            return equipe_name\n",
    "    return resultat\n",
    "\n",
    "def poisson_probability(l, x):\n",
    "    probability = ((l**x) * math.exp(-l)) / math.factorial(x)\n",
    "    return probability*100\n"
   ]
  },
  {
   "cell_type": "markdown",
   "id": "72e6988a-8a47-49c1-9774-7a281b556340",
   "metadata": {},
   "source": [
    "## DEFINITION DES PARAMETRES\n"
   ]
  },
  {
   "cell_type": "code",
   "execution_count": null,
   "id": "22c1fe6d-1d29-4439-96e7-a34f394cb036",
   "metadata": {},
   "outputs": [],
   "source": [
    "# les chemins des dossiers dans le bucket\n",
    "path_bucket_gold = \"gs://bucket-git-m2i/DB/golden/\" \n",
    "\n",
    "# table_id to the ID of the table to create.\n",
    "table_id = \"micro-atrium-360309.m2i_pronostics.match-prob\"\n",
    "\n",
    "# pour execution schedulée, extraction de l'ID du projet temporaire créé\n",
    "project_number = os.environ[\"CLOUD_ML_PROJECT_ID\"]"
   ]
  },
  {
   "cell_type": "markdown",
   "id": "80763e48-7f9c-4db4-8031-1ec262841881",
   "metadata": {},
   "source": [
    "## Se basant sur stats de l'historique ==> calcul (dans variables) des statistiques de la ligue (toutes équipes confondues)"
   ]
  },
  {
   "cell_type": "code",
   "execution_count": null,
   "id": "936add1c-5b19-4079-a084-c6e4b5f70a42",
   "metadata": {},
   "outputs": [],
   "source": [
    "df = pd.read_csv(f'{path_bucket_gold}merging_F.csv', sep=',')\n",
    "\n",
    "### normalizer tous les noms des equipes dans le dataframe\n",
    "\n",
    "# Home \n",
    "df['HomeTeam'] = df['HomeTeam'].str.strip().str.upper()\n",
    "df['HomeTeam'] = df['HomeTeam'].apply(nom_normalizer)\n",
    "\n",
    "# Away\n",
    "df['AwayTeam'] = df['AwayTeam'].str.strip().str.upper()\n",
    "df['AwayTeam'] = df['AwayTeam'].apply(nom_normalizer)\n",
    "\n",
    "home_average = df[['FTHG']].mean(numeric_only=True)[0]\n",
    "\n",
    "away_average = df[['FTAG']].mean(numeric_only=True)[0]\n"
   ]
  },
  {
   "cell_type": "markdown",
   "id": "04d61e82-a0e0-4132-b236-d6fc2363b9e3",
   "metadata": {},
   "source": [
    "## Calcul d'un scoring de chaque équipe (indépendemment de son adversaire) selon away/home relatif aux buts encaissés et marqués ==> création csv reprenant ces résultats"
   ]
  },
  {
   "cell_type": "code",
   "execution_count": null,
   "id": "3d32bc24",
   "metadata": {},
   "outputs": [],
   "source": [
    "calendrier = pd.read_csv(f'{path_bucket_gold}merging_calendrier.csv')\n",
    "new_file = pd.DataFrame(columns=['domicile','visiteur','home_attack_str','home_defence_str','away_attack_str','away_defence_str'])\n",
    "\n",
    "for index, line in calendrier.iterrows():\n",
    "    \n",
    "    domicile = nom_normalizer(line[1].strip().upper()) # recuperer l'equipe domicile\n",
    "    visiteur = nom_normalizer(line[2].strip().upper()) # recuperer l'equipe visiteur\n",
    "\n",
    "    team_home_df = df[df['HomeTeam']==domicile]\n",
    "    team_home_total = team_home_df[['FTHG']].sum()[0]\n",
    "    team_home_average = team_home_df[['FTHG']].mean()[0]\n",
    "    home_conceed_total = team_home_df[['FTAG']].sum()[0]\n",
    "    home_conceed_average = team_home_df[['FTAG']].mean()[0]\n",
    "    nb_matches_home = team_home_df[['FTAG']].count()[0]\n",
    "    \n",
    "    home_attack_str = (team_home_average / home_average)\n",
    "    home_defence_str = (home_conceed_average / away_average)\n",
    "\n",
    "    team_away_df = df[df['AwayTeam']==visiteur]\n",
    "    away_score_total = team_away_df[['FTAG']].sum()[0]\n",
    "    away_score_average = team_away_df[['FTAG']].mean()[0]\n",
    "    away_conceed_total = team_away_df[['FTHG']].sum()[0]\n",
    "    away_conceed_average = team_away_df[['FTHG']].mean()[0]\n",
    "    nb_matches_away = team_away_df[['FTHG']].count()[0]\n",
    "    \n",
    "    away_attack_str = (away_score_average / away_average)\n",
    "    away_defence_str = (away_conceed_average / home_average)\n",
    "\n",
    "    new_file = new_file.append({'domicile':domicile,'visiteur':visiteur,'home_attack_str':home_attack_str,'home_defence_str':home_defence_str,'away_attack_str':away_attack_str,'away_defence_str':away_defence_str}, ignore_index=True)\n",
    "new_file.to_csv(f'{path_bucket_gold}equipe-stat-results.csv', index=False)"
   ]
  },
  {
   "cell_type": "markdown",
   "id": "d0d47984-9b90-4f91-865a-28f661c329c7",
   "metadata": {},
   "source": [
    "## Calcul des probabilités du résultat (draw, home_win, away_win)\n",
    "### ==> création csv reprenant ces résultats"
   ]
  },
  {
   "cell_type": "code",
   "execution_count": null,
   "id": "1c4cbe73-4862-4b72-94ac-1c6cd70cafe1",
   "metadata": {},
   "outputs": [],
   "source": [
    "matchs = pd.read_csv(f'{path_bucket_gold}equipe-stat-results.csv')\n",
    "probs = pd.DataFrame(columns=['domicile','visiteur','draw_prob','Home_win_prob','away_win_prob'])\n",
    "\n",
    "for index, line in matchs.iterrows():\n",
    "    domicile = nom_normalizer(line[0].strip().upper()) # recuperer l'equipe domicile\n",
    "    visiteur = nom_normalizer(line[1].strip().upper()) # recuperer l'equipe visiteur\n",
    "    home_attack_str = line[2]\n",
    "    home_defence_str = line[3]\n",
    "    away_attack_str = line[4]\n",
    "    away_defence_str = line[5]\n",
    "\n",
    "    home_expect = float(home_attack_str) * float(away_defence_str) * float(home_average)\n",
    "    away_expect = float(away_attack_str) * float(home_defence_str) * float(away_average)\n",
    "\n",
    "    home_goals_prob = []\n",
    "    for i in range(8):\n",
    "        expect = poisson_probability(home_expect, i)\n",
    "        home_goals_prob.append(expect)\n",
    "    home_goals_probs = np.round(home_goals_prob,2)\n",
    "    away_goals_prob = []\n",
    "    for i in range(8):\n",
    "        expect = poisson_probability(away_expect, i)\n",
    "        away_goals_prob.append(expect)  \n",
    "    away_goals_probs = np.round(away_goals_prob,2) \n",
    "    p = {'Home0':[((home_goals_probs[0]*away_goals_probs[0])/100), ((home_goals_probs[0]*away_goals_probs[1])/100), ((home_goals_probs[0]*away_goals_probs[2])/100), ((home_goals_probs[0]*away_goals_probs[3])/100), ((home_goals_probs[0]*away_goals_probs[4])/100), ((home_goals_probs[0]*away_goals_probs[5])/100),((home_goals_probs[0]*away_goals_probs[6])/100),((home_goals_probs[0]*away_goals_probs[7])/100)], \n",
    "        'Home1':[((home_goals_probs[1]*away_goals_probs[0])/100), ((home_goals_probs[1]*away_goals_probs[1])/100), ((home_goals_probs[1]*away_goals_probs[2])/100), ((home_goals_probs[1]*away_goals_probs[3])/100), ((home_goals_probs[1]*away_goals_probs[4])/100), ((home_goals_probs[1]*away_goals_probs[5])/100),((home_goals_probs[1]*away_goals_probs[6])/100),((home_goals_probs[1]*away_goals_probs[7])/100)], \n",
    "        'Home2':[((home_goals_probs[2]*away_goals_probs[0])/100), ((home_goals_probs[2]*away_goals_probs[1])/100), ((home_goals_probs[2]*away_goals_probs[2])/100), ((home_goals_probs[2]*away_goals_probs[3])/100), ((home_goals_probs[2]*away_goals_probs[4])/100), ((home_goals_probs[2]*away_goals_probs[5])/100),((home_goals_probs[2]*away_goals_probs[6])/100),((home_goals_probs[2]*away_goals_probs[7])/100)], \n",
    "        'Home3':[((home_goals_probs[3]*away_goals_probs[0])/100), ((home_goals_probs[3]*away_goals_probs[1])/100), ((home_goals_probs[3]*away_goals_probs[2])/100), ((home_goals_probs[3]*away_goals_probs[3])/100), ((home_goals_probs[3]*away_goals_probs[4])/100), ((home_goals_probs[3]*away_goals_probs[5])/100),((home_goals_probs[3]*away_goals_probs[6])/100),((home_goals_probs[3]*away_goals_probs[7])/100)], \n",
    "        'Home4':[((home_goals_probs[4]*away_goals_probs[0])/100), ((home_goals_probs[4]*away_goals_probs[1])/100), ((home_goals_probs[4]*away_goals_probs[2])/100), ((home_goals_probs[4]*away_goals_probs[3])/100), ((home_goals_probs[4]*away_goals_probs[4])/100), ((home_goals_probs[4]*away_goals_probs[5])/100),((home_goals_probs[4]*away_goals_probs[6])/100),((home_goals_probs[4]*away_goals_probs[7])/100)], \n",
    "        'Home5':[((home_goals_probs[5]*away_goals_probs[0])/100), ((home_goals_probs[5]*away_goals_probs[1])/100), ((home_goals_probs[5]*away_goals_probs[2])/100), ((home_goals_probs[5]*away_goals_probs[3])/100), ((home_goals_probs[5]*away_goals_probs[4])/100), ((home_goals_probs[5]*away_goals_probs[5])/100),((home_goals_probs[5]*away_goals_probs[6])/100),((home_goals_probs[5]*away_goals_probs[7])/100)],\n",
    "        'Home6':[((home_goals_probs[6]*away_goals_probs[0])/100), ((home_goals_probs[6]*away_goals_probs[1])/100), ((home_goals_probs[6]*away_goals_probs[2])/100), ((home_goals_probs[6]*away_goals_probs[3])/100), ((home_goals_probs[6]*away_goals_probs[4])/100), ((home_goals_probs[6]*away_goals_probs[5])/100),((home_goals_probs[6]*away_goals_probs[6])/100),((home_goals_probs[6]*away_goals_probs[7])/100)],\n",
    "        'Home7':[((home_goals_probs[7]*away_goals_probs[0])/100), ((home_goals_probs[7]*away_goals_probs[1])/100), ((home_goals_probs[7]*away_goals_probs[2])/100), ((home_goals_probs[7]*away_goals_probs[3])/100), ((home_goals_probs[7]*away_goals_probs[4])/100), ((home_goals_probs[7]*away_goals_probs[5])/100),((home_goals_probs[7]*away_goals_probs[6])/100),((home_goals_probs[7]*away_goals_probs[7])/100)]}\n",
    "    probability = pd.DataFrame(p, index=['away0','away1','away2', 'away3', 'away4', 'away5', 'away6', 'away7'])\n",
    "    nump = probability.to_numpy()\n",
    "    draw_prob = np.trace(nump)\n",
    "    Home_win_prob = (np.trace(nump, offset = 1))+(np.trace(nump, offset = 2))+(np.trace(nump, offset = 3))+(np.trace(nump, offset = 4))+(np.trace(nump, offset = 5))+(np.trace(nump, offset = 6))\n",
    "    away_win_prob = (np.trace(nump, offset = -1))+(np.trace(nump, offset = -2))+(np.trace(nump, offset = -3))+(np.trace(nump, offset = -4))+(np.trace(nump, offset = -5))+(np.trace(nump, offset = -6))\n",
    "    probs = probs.append({'domicile':domicile,'visiteur':visiteur,'draw_prob':draw_prob,'Home_win_prob':Home_win_prob,'away_win_prob':away_win_prob}, ignore_index=True)\n",
    "probs.to_csv(f\"{path_bucket_gold}match-prob.csv\", index=False)"
   ]
  },
  {
   "cell_type": "markdown",
   "id": "ade2ceca-1bb2-4be9-a863-dba3c1a9bbf5",
   "metadata": {},
   "source": [
    "### Le csv créé (match-prob) est importé dans un dataset bigQuery (en écrasant les donnnées)"
   ]
  },
  {
   "cell_type": "code",
   "execution_count": null,
   "id": "2d95783a-7bb0-4596-b38c-c49e61109d49",
   "metadata": {},
   "outputs": [],
   "source": [
    "# Construct a BigQuery client object.\n",
    "client = bigquery.Client(project_number)\n",
    "\n",
    "job_config = bigquery.LoadJobConfig(\n",
    "    skip_leading_rows=1,\n",
    "    write_disposition=\"WRITE_TRUNCATE\",\n",
    "    # The source format defaults to CSV, so the line below is optional.\n",
    "    source_format=bigquery.SourceFormat.CSV,\n",
    ")\n",
    "uri = f\"{path_bucket_gold}match-prob.csv\"\n",
    "\n",
    "load_job = client.load_table_from_uri(\n",
    "    uri, table_id, job_config=job_config\n",
    ")  # Make an API request.\n",
    "\n",
    "load_job.result()  # Waits for the job to complete.\n",
    "\n",
    "destination_table = client.get_table(table_id)  # Make an API request.\n",
    "print(\"Loaded {} rows.\".format(destination_table.num_rows))"
   ]
  },
  {
   "cell_type": "code",
   "execution_count": null,
   "id": "cf7b19dd-87fd-4f45-ba54-903bbfa59caa",
   "metadata": {},
   "outputs": [],
   "source": []
  }
 ],
 "metadata": {
  "environment": {
   "kernel": "python3",
   "name": "common-cu110.m95",
   "type": "gcloud",
   "uri": "gcr.io/deeplearning-platform-release/base-cu110:m95"
  },
  "kernelspec": {
   "display_name": "Python (Local)",
   "language": "python",
   "name": "local-base"
  },
  "language_info": {
   "codemirror_mode": {
    "name": "ipython",
    "version": 3
   },
   "file_extension": ".py",
   "mimetype": "text/x-python",
   "name": "python",
   "nbconvert_exporter": "python",
   "pygments_lexer": "ipython3",
   "version": "3.7.12"
  },
  "vscode": {
   "interpreter": {
    "hash": "26de051ba29f2982a8de78e945f0abaf191376122a1563185a90213a26c5da77"
   }
  }
 },
 "nbformat": 4,
 "nbformat_minor": 5
}
